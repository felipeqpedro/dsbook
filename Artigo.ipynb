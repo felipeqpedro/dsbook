{
  "nbformat": 4,
  "nbformat_minor": 0,
  "metadata": {
    "colab": {
      "name": "Artigo.ipynb",
      "provenance": [],
      "collapsed_sections": [],
      "authorship_tag": "ABX9TyMbgldTZBkRn/nNhigX15OG",
      "include_colab_link": true
    },
    "kernelspec": {
      "name": "python3",
      "display_name": "Python 3"
    },
    "language_info": {
      "name": "python"
    }
  },
  "cells": [
    {
      "cell_type": "markdown",
      "metadata": {
        "id": "view-in-github",
        "colab_type": "text"
      },
      "source": [
        "<a href=\"https://colab.research.google.com/github/felipeqpedro/dsbook/blob/master/Artigo.ipynb\" target=\"_parent\"><img src=\"https://colab.research.google.com/assets/colab-badge.svg\" alt=\"Open In Colab\"/></a>"
      ]
    },
    {
      "cell_type": "code",
      "metadata": {
        "colab": {
          "base_uri": "https://localhost:8080/"
        },
        "id": "HBfhR1Wr4xp4",
        "outputId": "0e0d13ae-ef64-442e-b472-5079c9058316"
      },
      "source": [
        "x = 'Olá, Mundo! Felipe aqui'\n",
        "print(x)"
      ],
      "execution_count": 1,
      "outputs": [
        {
          "output_type": "stream",
          "text": [
            "Olá, Mundo! Felipe aqui\n"
          ],
          "name": "stdout"
        }
      ]
    },
    {
      "cell_type": "markdown",
      "metadata": {
        "id": "VcJWxwi9tUfM"
      },
      "source": [
        "#**Por que falhamos no que nos dispomos a fazer?**\n",
        "\n",
        "Na década de 1970, os filósofos Samuel Gorovitz e Alasdair MacIntyre publicaram um breve ensaio sobre a natureza da falibilidade humana. A pergunta que procuravam responder era por que falhamos no que nos dispomos a fazer. De acordo com eles, uma explicação para isso é a **\"falibilidade inevitável\"**: algumas coisas que queremos fazer simplesmente estão além de nossa capacidade. Não somos oniscientes nem onipotentes. Mesmo ampliadas pela tecnologia, nossas habilidades físicas e mentais são limitadas. Boa parte do mundo e do Universo está - e permenecerá -  além de nossa compreensão e de nosso controle.\n",
        "\n",
        "\n",
        "---\n",
        "\n",
        "\n",
        "\n",
        "<img src=\"https://images.pexels.com/photos/1194197/pexels-photo-1194197.jpeg?cs=srgb&dl=pexels-brett-sayles-1194197.jpg&fm=jpg\">\n",
        "\n",
        "\n",
        "---\n",
        "\n",
        "\n",
        "\n",
        "No entanto, em muitas áreas, o controle é possível. Somos capazes de contruir arranha-céus, prever nevascas, salva pessoas de ataques cardíacos e curar lesões graves. Como observam Gorovitz e MacIntyre, mesmo nessas áreas identificamos falhas humanas, não por incapacidade intrínseca, mas por duas causas evitáveis e superáveis.\n",
        "\n",
        "A primeira é a ignorância: erramos porque a ciência nos propociona apenas uma compreensão parcial do mundo e de seu funcionamento. Ainda não somos capazes de contruir certos arranhas-céus nem de prever algumas nevascas, como ainda não aprendemos a impedir algumas modalidades de ataques cardíacos. A outra causa é a inépcia - casos em que o conhecimento existe, mas não é aplicado corretamente. É o arranha-céu mal contruído que desaba, a nevasca cujos sinais identificáveis não foram detectados pelo meteorologista, o ferimento provocado por uma arma específica que poderia ter sido levada em conta pelos médicos e não foi. \n",
        "\n",
        "Então, o que fazer quando o conhecimento e a experiência não são suficientes? Como agir quando os superespecialistas falham? E a resposta para isso é **O Checklist**\n",
        "\n",
        "O estudo por essas questões encontra-se no livro feito por **Atul Gawande** e publicado, traduzido e editado pela editora **SEXTANTE**\n",
        "\n",
        "\n",
        "---\n",
        "\n",
        "\n",
        "\n",
        "<img src=\"https://images-na.ssl-images-amazon.com/images/I/61tj78WUH6L.jpg\">\n",
        "\n",
        "\n",
        "\n",
        "\n",
        "\n",
        "\n",
        "\n",
        "\n",
        "\n"
      ]
    }
  ]
}